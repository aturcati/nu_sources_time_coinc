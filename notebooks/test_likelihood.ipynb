{
 "cells": [
  {
   "cell_type": "code",
   "execution_count": 1,
   "metadata": {},
   "outputs": [],
   "source": [
    "import sys\n",
    "import numpy as np\n",
    "import matplotlib.pyplot as plt\n",
    "import seaborn as sns\n",
    "import pandas as pd\n",
    "from scipy import stats"
   ]
  },
  {
   "cell_type": "code",
   "execution_count": 2,
   "metadata": {},
   "outputs": [],
   "source": [
    "sys.path.append(\"../\")"
   ]
  },
  {
   "cell_type": "code",
   "execution_count": 3,
   "metadata": {},
   "outputs": [],
   "source": [
    "from lib import lightcurve as lc\n",
    "from lib import functions as func"
   ]
  },
  {
   "cell_type": "code",
   "execution_count": 4,
   "metadata": {},
   "outputs": [],
   "source": [
    "lc_bins = np.genfromtxt(\"../data/time.txt\")\n",
    "lc_bc = (lc_bins[:-1] + lc_bins[1:]) / 2."
   ]
  },
  {
   "cell_type": "code",
   "execution_count": 5,
   "metadata": {},
   "outputs": [],
   "source": [
    "lc_state = np.genfromtxt(\"../data/flux.txt\")"
   ]
  },
  {
   "cell_type": "code",
   "execution_count": 6,
   "metadata": {},
   "outputs": [],
   "source": [
    "thr = 5e-8"
   ]
  },
  {
   "cell_type": "code",
   "execution_count": 7,
   "metadata": {},
   "outputs": [],
   "source": [
    "s = lc.LightCurve(lc_bins, lc_state[:-1], thr)"
   ]
  },
  {
   "cell_type": "code",
   "execution_count": 8,
   "metadata": {},
   "outputs": [],
   "source": [
    "rand_idx = np.random.choice(len(lc_state), len(lc_state))\n",
    "s_rand = lc.LightCurve(lc_bins, lc_state[rand_idx[:-1]], thr)"
   ]
  },
  {
   "cell_type": "code",
   "execution_count": 9,
   "metadata": {},
   "outputs": [
    {
     "data": {
      "text/plain": [
       "Text(0.5, 0, 'MJD')"
      ]
     },
     "execution_count": 9,
     "metadata": {},
     "output_type": "execute_result"
    },
    {
     "data": {
      "image/png": "[encoded data removed]",
      "text/plain": [
       "<Figure size 576x360 with 4 Axes>"
      ]
     },
     "metadata": {
      "needs_background": "light"
     },
     "output_type": "display_data"
    }
   ],
   "source": [
    "fig, ax = plt.subplots(2,2,figsize=(8,5), sharex=True)\n",
    "ax[0][0].set_title(\"RBS0958 (7 days)\")\n",
    "ax[0][0].errorbar(lc_bins+3.5, lc_state, xerr=3.5, ls=\"\", marker='+')\n",
    "ax[0][0].axhline(thr, ls='--', color='gray')\n",
    "ax[0][0].set_ylabel(r\"ph/cm$^{2}$/s\")\n",
    "\n",
    "x = np.linspace(lc_bins[0],lc_bins[-1],10000)\n",
    "y = s(x)\n",
    "ax[1][0].plot(x,y)\n",
    "ax[1][0].set_xlabel(\"MJD\")\n",
    "ax[1][0].set_ylabel(\"Flare state\")\n",
    "\n",
    "ax[0][1].set_title(\"Random Source (7 days)\")\n",
    "ax[0][1].errorbar(lc_bins+3.5, lc_state[rand_idx], xerr=3.5, ls=\"\", marker='+')\n",
    "ax[0][1].axhline(thr, ls='--', color='gray')\n",
    "\n",
    "y_rand = s_rand(x)\n",
    "ax[1][1].plot(x,y_rand)\n",
    "ax[1][1].set_xlabel(\"MJD\")"
   ]
  },
  {
   "cell_type": "code",
   "execution_count": 10,
   "metadata": {},
   "outputs": [],
   "source": [
    "sources = np.array([func.make_rnd_lc(lc_bins, lc_state, thr) for i in range(10)])"
   ]
  },
  {
   "cell_type": "code",
   "execution_count": 11,
   "metadata": {},
   "outputs": [
    {
     "name": "stderr",
     "output_type": "stream",
     "text": [
      "100%|██████████| 100000/100000 [01:05<00:00, 1516.53it/s]\n"
     ]
    }
   ],
   "source": [
    "bkg_tr = func.background_trials(100000,sources,lc_bins)"
   ]
  },
  {
   "cell_type": "code",
   "execution_count": 12,
   "metadata": {},
   "outputs": [
    {
     "name": "stderr",
     "output_type": "stream",
     "text": [
      "100%|██████████| 100000/100000 [01:03<00:00, 1584.85it/s]\n",
      "100%|██████████| 100000/100000 [00:57<00:00, 1726.68it/s]\n",
      "100%|██████████| 100000/100000 [00:52<00:00, 1921.94it/s]\n",
      "100%|██████████| 100000/100000 [00:46<00:00, 2170.57it/s]\n",
      "100%|██████████| 100000/100000 [00:39<00:00, 2540.19it/s]\n",
      "100%|██████████| 100000/100000 [00:32<00:00, 3056.22it/s]\n",
      "100%|██████████| 100000/100000 [00:26<00:00, 3729.16it/s]\n",
      "100%|██████████| 100000/100000 [00:20<00:00, 4815.84it/s]\n",
      "100%|██████████| 100000/100000 [00:14<00:00, 6968.37it/s]\n"
     ]
    }
   ],
   "source": [
    "sig_tr = []\n",
    "for i in range(9):\n",
    "    i += 1\n",
    "    sig_tr.append(func.signal_trials(100000,i,sources,lc_bins))\n",
    "sig_tr = np.array(sig_tr)"
   ]
  },
  {
   "cell_type": "code",
   "execution_count": 13,
   "metadata": {},
   "outputs": [
    {
     "name": "stdout",
     "output_type": "stream",
     "text": [
      "4.07975\n"
     ]
    }
   ],
   "source": [
    "mu = np.mean(bkg_tr)\n",
    "print(mu)"
   ]
  },
  {
   "cell_type": "code",
   "execution_count": 14,
   "metadata": {},
   "outputs": [
    {
     "name": "stdout",
     "output_type": "stream",
     "text": [
      "[4.66958 5.25555 5.85753 6.44815 7.03675 7.63894 8.22105 8.81442 9.40688]\n"
     ]
    }
   ],
   "source": [
    "mu_s = np.mean(sig_tr, axis=1)\n",
    "print(mu_s)"
   ]
  },
  {
   "cell_type": "code",
   "execution_count": 15,
   "metadata": {},
   "outputs": [
    {
     "data": {
      "text/plain": [
       "(0.0, 10.5)"
      ]
     },
     "execution_count": 15,
     "metadata": {},
     "output_type": "execute_result"
    },
    {
     "data": {
      "image/png": "[encoded data removed]",
      "text/plain": [
       "<Figure size 432x288 with 1 Axes>"
      ]
     },
     "metadata": {
      "needs_background": "light"
     },
     "output_type": "display_data"
    }
   ],
   "source": [
    "fig, ax = plt.subplots()\n",
    "colors = sns.color_palette(\"colorblind\", len(sig_tr)+1)\n",
    "xbins = np.linspace(-0.5,len(sources)+0.5,len(sources)+2)\n",
    "ax.hist(bkg_tr, bins=xbins, histtype='step', lw=2, color=colors[0], density=True)\n",
    "for i, tr in enumerate(sig_tr):\n",
    "    ax.hist(tr, bins=xbins, histtype='step', lw=2, color=colors[i+1], density=True)\n",
    "\n",
    "ax.set_xlim(0.,len(sources)+0.5)"
   ]
  },
  {
   "cell_type": "code",
   "execution_count": 16,
   "metadata": {},
   "outputs": [],
   "source": [
    "val, _ = np.histogram(bkg_tr, bins=xbins, density=True)\n",
    "cum_val = 1. - np.cumsum(val)"
   ]
  },
  {
   "cell_type": "code",
   "execution_count": 17,
   "metadata": {},
   "outputs": [],
   "source": [
    "val_s = []\n",
    "cumval_s = []\n",
    "for tr in sig_tr:\n",
    "    vals = np.histogram(tr, bins=xbins, density=True)[0]\n",
    "    cum_vals = 1. - np.cumsum(vals)\n",
    "    val_s.append(vals)\n",
    "    cumval_s.append(cum_vals)"
   ]
  },
  {
   "cell_type": "code",
   "execution_count": 18,
   "metadata": {},
   "outputs": [],
   "source": [
    "def prob(n, cum_vals):\n",
    "    return(cum_vals[n])"
   ]
  },
  {
   "cell_type": "code",
   "execution_count": 19,
   "metadata": {},
   "outputs": [],
   "source": [
    "pdf = np.array([val, *val_s])"
   ]
  },
  {
   "cell_type": "code",
   "execution_count": 20,
   "metadata": {},
   "outputs": [],
   "source": [
    "pdf /= np.sum(pdf)"
   ]
  },
  {
   "cell_type": "code",
   "execution_count": 21,
   "metadata": {},
   "outputs": [
    {
     "name": "stdout",
     "output_type": "stream",
     "text": [
      "[[4.5700e-04 3.5010e-03 1.1129e-02 2.0935e-02 2.5433e-02 2.0911e-02\n",
      "  1.1830e-02 4.4820e-03 1.1410e-03 1.6800e-04 1.3000e-05]\n",
      " [0.0000e+00 8.3200e-04 5.4070e-03 1.4941e-02 2.5189e-02 2.5605e-02\n",
      "  1.7474e-02 7.9420e-03 2.2390e-03 3.5200e-04 1.9000e-05]\n",
      " [0.0000e+00 0.0000e+00 1.3810e-03 8.2940e-03 2.0220e-02 2.7834e-02\n",
      "  2.4145e-02 1.2951e-02 4.2920e-03 8.3200e-04 5.1000e-05]\n",
      " [0.0000e+00 0.0000e+00 0.0000e+00 2.3770e-03 1.2269e-02 2.5398e-02\n",
      "  2.9584e-02 2.0154e-02 8.1570e-03 1.8920e-03 1.6900e-04]\n",
      " [0.0000e+00 0.0000e+00 0.0000e+00 0.0000e+00 4.0930e-03 1.7721e-02\n",
      "  3.0896e-02 2.8593e-02 1.4382e-02 3.8950e-03 4.2000e-04]\n",
      " [0.0000e+00 0.0000e+00 0.0000e+00 0.0000e+00 0.0000e+00 7.2900e-03\n",
      "  2.5017e-02 3.4613e-02 2.3972e-02 8.0240e-03 1.0840e-03]\n",
      " [0.0000e+00 0.0000e+00 0.0000e+00 0.0000e+00 0.0000e+00 0.0000e+00\n",
      "  1.1957e-02 3.3864e-02 3.5210e-02 1.6266e-02 2.7030e-03]\n",
      " [0.0000e+00 0.0000e+00 0.0000e+00 0.0000e+00 0.0000e+00 0.0000e+00\n",
      "  0.0000e+00 2.0816e-02 4.2945e-02 2.9557e-02 6.6820e-03]\n",
      " [0.0000e+00 0.0000e+00 0.0000e+00 0.0000e+00 0.0000e+00 0.0000e+00\n",
      "  0.0000e+00 0.0000e+00 3.5046e-02 4.8466e-02 1.6488e-02]\n",
      " [0.0000e+00 0.0000e+00 0.0000e+00 0.0000e+00 0.0000e+00 0.0000e+00\n",
      "  0.0000e+00 0.0000e+00 0.0000e+00 5.9312e-02 4.0688e-02]]\n"
     ]
    }
   ],
   "source": [
    "print(pdf)"
   ]
  },
  {
   "cell_type": "code",
   "execution_count": 39,
   "metadata": {},
   "outputs": [
    {
     "name": "stderr",
     "output_type": "stream",
     "text": [
      "../lib/functions.py:43: RuntimeWarning: divide by zero encountered in true_divide\n",
      "  lik = np.log(p_zero/p_h)\n"
     ]
    },
    {
     "data": {
      "text/plain": [
       "<matplotlib.legend.Legend at 0x11c29b290>"
      ]
     },
     "execution_count": 39,
     "metadata": {},
     "output_type": "execute_result"
    },
    {
     "data": {
      "image/png": "[encoded data removed]",
      "text/plain": [
       "<Figure size 432x288 with 1 Axes>"
      ]
     },
     "metadata": {
      "needs_background": "light"
     },
     "output_type": "display_data"
    }
   ],
   "source": [
    "fig, ax = plt.subplots()\n",
    "prof_lik = func.prof_likelihood(6,pdf)\n",
    "ax.plot(range(len(prof_lik)), prof_lik, label=f\"{i}\")\n",
    "ax.legend()"
   ]
  },
  {
   "cell_type": "code",
   "execution_count": 23,
   "metadata": {},
   "outputs": [],
   "source": [
    "ts = []\n",
    "for n in bkg_tr:\n",
    "    ts.append(func.test_statistic(n,pdf))\n",
    "ts = np.array(ts)\n",
    "ts[ts<0.] = 0."
   ]
  },
  {
   "cell_type": "code",
   "execution_count": 24,
   "metadata": {},
   "outputs": [
    {
     "data": {
      "text/plain": [
       "0.0"
      ]
     },
     "execution_count": 24,
     "metadata": {},
     "output_type": "execute_result"
    }
   ],
   "source": [
    "np.sum(ts<0.)/len(ts)"
   ]
  },
  {
   "cell_type": "code",
   "execution_count": 25,
   "metadata": {},
   "outputs": [],
   "source": [
    "from scipy.stats import chi2\n",
    "\n",
    "def chi_squared(x, ndof):\n",
    "    return chi2.pdf(x, ndof)"
   ]
  },
  {
   "cell_type": "code",
   "execution_count": 26,
   "metadata": {},
   "outputs": [
    {
     "name": "stderr",
     "output_type": "stream",
     "text": [
      "/usr/local/lib/python3.7/site-packages/ipykernel_launcher.py:5: RuntimeWarning: invalid value encountered in true_divide\n",
      "  \"\"\"\n",
      "/usr/local/lib/python3.7/site-packages/scipy/optimize/minpack.py:808: OptimizeWarning: Covariance of the parameters could not be estimated\n",
      "  category=OptimizeWarning)\n"
     ]
    },
    {
     "data": {
      "text/plain": [
       "Text(0.5, 0, 'Test Statistic')"
      ]
     },
     "execution_count": 26,
     "metadata": {},
     "output_type": "execute_result"
    },
    {
     "data": {
      "image/png": "[encoded data removed]",
      "text/plain": [
       "<Figure size 432x288 with 2 Axes>"
      ]
     },
     "metadata": {
      "needs_background": "light"
     },
     "output_type": "display_data"
    }
   ],
   "source": [
    "fig, ax = plt.subplots(2,1, sharex=True)\n",
    "tsbins = np.linspace(-2.5, 12.5, 16)\n",
    "tsc = (tsbins[:-1] + tsbins[1:]) / 2.\n",
    "vals = np.histogram(ts, bins=tsbins, density=True)[0]\n",
    "val_err = np.sqrt(vals) / vals\n",
    "ax[0].errorbar(tsc, vals, ls=\"\", marker='o')\n",
    "ax[0].semilogy()\n",
    "\n",
    "from scipy.optimize import curve_fit\n",
    "popt, _ = curve_fit(chi_squared, tsc, vals, p0=[1.])\n",
    "x=np.linspace(0.,12,1000)\n",
    "ax[0].plot(x, chi_squared(x, popt[0]), ls=':', color='gray', lw=1, label='Chi2')\n",
    "\n",
    "ax[0].set_xlim([-0.2, 12.5])\n",
    "ax[0].legend()\n",
    "\n",
    "ax[1].errorbar(tsc[vals!=0], vals[vals!=0]/chi_squared(tsc[vals!=0], popt[0]), yerr=val_err[vals!=0], ls=\"\", marker='+')\n",
    "ax[1].set_ylim([-19,20.])\n",
    "ax[1].axhline(1., color='gray', ls=':', lw=1)\n",
    "\n",
    "ax[1].set_xlabel(\"Test Statistic\")"
   ]
  },
  {
   "cell_type": "code",
   "execution_count": null,
   "metadata": {},
   "outputs": [],
   "source": []
  }
 ],
 "metadata": {
  "kernelspec": {
   "display_name": "Python 3",
   "language": "python",
   "name": "python3"
  },
  "language_info": {
   "codemirror_mode": {
    "name": "ipython",
    "version": 3
   },
   "file_extension": ".py",
   "mimetype": "text/x-python",
   "name": "python",
   "nbconvert_exporter": "python",
   "pygments_lexer": "ipython3",
   "version": "3.7.7"
  }
 },
 "nbformat": 4,
 "nbformat_minor": 4
}
