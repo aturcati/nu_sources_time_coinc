{
 "cells": [
  {
   "cell_type": "code",
   "execution_count": 1,
   "metadata": {},
   "outputs": [],
   "source": [
    "import sys\n",
    "import numpy as np\n",
    "import matplotlib.pyplot as plt\n",
    "import seaborn as sns\n",
    "import pandas as pd\n",
    "from scipy import stats"
   ]
  },
  {
   "cell_type": "code",
   "execution_count": 2,
   "metadata": {},
   "outputs": [],
   "source": [
    "sys.path.append(\"../\")"
   ]
  },
  {
   "cell_type": "code",
   "execution_count": 3,
   "metadata": {},
   "outputs": [],
   "source": [
    "from lib import lightcurve as lc"
   ]
  },
  {
   "cell_type": "code",
   "execution_count": 4,
   "metadata": {},
   "outputs": [],
   "source": [
    "def simulate_outcome(n=5, fp=0.3):\n",
    "    n_s = n_events = n\n",
    "    flare_prob = fp\n",
    "    \n",
    "    bins = np.linspace(0.,100,101)\n",
    "    state = np.random.choice([1, 0], size=(n_s,len(bins)-1), p=[flare_prob, 1-flare_prob])\n",
    "    \n",
    "    lcs = np.array([lc.LightCurve(bins,state[i]) for i in range(len(state))])\n",
    "    \n",
    "    events = np.round(np.random.uniform(low=0., high=100., size=(n_events,1)))\n",
    "    \n",
    "    ev_states = np.array([lcs[i](events[i])[0] for i in range(len(events))], dtype=np.bool)\n",
    "    \n",
    "    coinc = np.sum(ev_states)\n",
    "    expected_coinc = np.sum([l.flare_probability for l in lcs])\n",
    "    \n",
    "    p_coinc = np.array([l.flare_probability for l in lcs[ev_states]])  \n",
    "    p_noncoinc = np.array([1 - l.flare_probability for l in lcs[~ev_states]])\n",
    "    \n",
    "    l = -np.log10(np.product(p_coinc) * np.product(p_noncoinc))\n",
    "    \n",
    "    return coinc, l"
   ]
  },
  {
   "cell_type": "code",
   "execution_count": 5,
   "metadata": {},
   "outputs": [],
   "source": [
    "def simulate_outcome_signal(n=5, n_signal=1, fp=0.3):\n",
    "    n_inj = n_signal\n",
    "    n_s = n\n",
    "    n_events = n - n_inj\n",
    "    flare_prob = fp\n",
    "    \n",
    "    bins = np.linspace(0.,100,101)\n",
    "    state = np.random.choice([1, 0], size=(n_s,len(bins)-1), p=[flare_prob, 1-flare_prob])\n",
    "    \n",
    "    lcs = np.array([lc.LightCurve(bins,state[i]) for i in range(len(state))])\n",
    "    \n",
    "    events = np.round(np.random.uniform(low=0., high=100., size=(n_events,1)))\n",
    "    \n",
    "    ev_states = np.array([lcs[i](events[i])[0] for i in range(len(events))], dtype=np.bool)\n",
    "    ev_coinc = np.ones(n_inj, dtype=np.bool)\n",
    "    ev_states = np.append(ev_states, ev_coinc)\n",
    "    \n",
    "    coinc = np.sum(ev_states)\n",
    "    expected_coinc = np.sum([l.flare_probability for l in lcs])\n",
    "    \n",
    "    p_coinc = np.array([l.flare_probability for l in lcs[ev_states]])  \n",
    "    p_noncoinc = np.array([1 - l.flare_probability for l in lcs[~ev_states]])\n",
    "    \n",
    "    l = -np.log10(np.product(p_coinc) * np.product(p_noncoinc))\n",
    "    \n",
    "    return coinc, l"
   ]
  },
  {
   "cell_type": "code",
   "execution_count": 6,
   "metadata": {},
   "outputs": [],
   "source": [
    "sim = dict()\n",
    "for i in range(10):\n",
    "    sim[i] = list()\n",
    "    for j in range(10000):\n",
    "        out_inj = simulate_outcome_signal(10, i, 0.4)\n",
    "        sim[i].append(out_inj[0])"
   ]
  },
  {
   "cell_type": "code",
   "execution_count": 7,
   "metadata": {},
   "outputs": [],
   "source": [
    "sim = pd.DataFrame(sim)"
   ]
  },
  {
   "cell_type": "code",
   "execution_count": 8,
   "metadata": {},
   "outputs": [
    {
     "data": {
      "text/html": [
       "<div>\n",
       "<style scoped>\n",
       "    .dataframe tbody tr th:only-of-type {\n",
       "        vertical-align: middle;\n",
       "    }\n",
       "\n",
       "    .dataframe tbody tr th {\n",
       "        vertical-align: top;\n",
       "    }\n",
       "\n",
       "    .dataframe thead th {\n",
       "        text-align: right;\n",
       "    }\n",
       "</style>\n",
       "<table border=\"1\" class=\"dataframe\">\n",
       "  <thead>\n",
       "    <tr style=\"text-align: right;\">\n",
       "      <th></th>\n",
       "      <th>0</th>\n",
       "      <th>1</th>\n",
       "      <th>2</th>\n",
       "      <th>3</th>\n",
       "      <th>4</th>\n",
       "      <th>5</th>\n",
       "      <th>6</th>\n",
       "      <th>7</th>\n",
       "      <th>8</th>\n",
       "      <th>9</th>\n",
       "    </tr>\n",
       "  </thead>\n",
       "  <tbody>\n",
       "    <tr>\n",
       "      <th>count</th>\n",
       "      <td>10000.0000</td>\n",
       "      <td>10000.000000</td>\n",
       "      <td>10000.000000</td>\n",
       "      <td>10000.000000</td>\n",
       "      <td>10000.000000</td>\n",
       "      <td>10000.000000</td>\n",
       "      <td>10000.000000</td>\n",
       "      <td>10000.000000</td>\n",
       "      <td>10000.000000</td>\n",
       "      <td>10000.000000</td>\n",
       "    </tr>\n",
       "    <tr>\n",
       "      <th>mean</th>\n",
       "      <td>3.9692</td>\n",
       "      <td>4.592900</td>\n",
       "      <td>5.202800</td>\n",
       "      <td>5.790100</td>\n",
       "      <td>6.407900</td>\n",
       "      <td>6.985100</td>\n",
       "      <td>7.602100</td>\n",
       "      <td>8.188000</td>\n",
       "      <td>8.803800</td>\n",
       "      <td>9.401300</td>\n",
       "    </tr>\n",
       "    <tr>\n",
       "      <th>std</th>\n",
       "      <td>1.5547</td>\n",
       "      <td>1.471729</td>\n",
       "      <td>1.380747</td>\n",
       "      <td>1.272951</td>\n",
       "      <td>1.192418</td>\n",
       "      <td>1.094257</td>\n",
       "      <td>0.984415</td>\n",
       "      <td>0.857747</td>\n",
       "      <td>0.693652</td>\n",
       "      <td>0.490186</td>\n",
       "    </tr>\n",
       "    <tr>\n",
       "      <th>min</th>\n",
       "      <td>0.0000</td>\n",
       "      <td>1.000000</td>\n",
       "      <td>2.000000</td>\n",
       "      <td>3.000000</td>\n",
       "      <td>4.000000</td>\n",
       "      <td>5.000000</td>\n",
       "      <td>6.000000</td>\n",
       "      <td>7.000000</td>\n",
       "      <td>8.000000</td>\n",
       "      <td>9.000000</td>\n",
       "    </tr>\n",
       "    <tr>\n",
       "      <th>25%</th>\n",
       "      <td>3.0000</td>\n",
       "      <td>4.000000</td>\n",
       "      <td>4.000000</td>\n",
       "      <td>5.000000</td>\n",
       "      <td>6.000000</td>\n",
       "      <td>6.000000</td>\n",
       "      <td>7.000000</td>\n",
       "      <td>8.000000</td>\n",
       "      <td>8.000000</td>\n",
       "      <td>9.000000</td>\n",
       "    </tr>\n",
       "    <tr>\n",
       "      <th>50%</th>\n",
       "      <td>4.0000</td>\n",
       "      <td>5.000000</td>\n",
       "      <td>5.000000</td>\n",
       "      <td>6.000000</td>\n",
       "      <td>6.000000</td>\n",
       "      <td>7.000000</td>\n",
       "      <td>8.000000</td>\n",
       "      <td>8.000000</td>\n",
       "      <td>9.000000</td>\n",
       "      <td>9.000000</td>\n",
       "    </tr>\n",
       "    <tr>\n",
       "      <th>75%</th>\n",
       "      <td>5.0000</td>\n",
       "      <td>6.000000</td>\n",
       "      <td>6.000000</td>\n",
       "      <td>7.000000</td>\n",
       "      <td>7.000000</td>\n",
       "      <td>8.000000</td>\n",
       "      <td>8.000000</td>\n",
       "      <td>9.000000</td>\n",
       "      <td>9.000000</td>\n",
       "      <td>10.000000</td>\n",
       "    </tr>\n",
       "    <tr>\n",
       "      <th>max</th>\n",
       "      <td>9.0000</td>\n",
       "      <td>10.000000</td>\n",
       "      <td>10.000000</td>\n",
       "      <td>10.000000</td>\n",
       "      <td>10.000000</td>\n",
       "      <td>10.000000</td>\n",
       "      <td>10.000000</td>\n",
       "      <td>10.000000</td>\n",
       "      <td>10.000000</td>\n",
       "      <td>10.000000</td>\n",
       "    </tr>\n",
       "  </tbody>\n",
       "</table>\n",
       "</div>"
      ],
      "text/plain": [
       "                0             1             2             3             4  \\\n",
       "count  10000.0000  10000.000000  10000.000000  10000.000000  10000.000000   \n",
       "mean       3.9692      4.592900      5.202800      5.790100      6.407900   \n",
       "std        1.5547      1.471729      1.380747      1.272951      1.192418   \n",
       "min        0.0000      1.000000      2.000000      3.000000      4.000000   \n",
       "25%        3.0000      4.000000      4.000000      5.000000      6.000000   \n",
       "50%        4.0000      5.000000      5.000000      6.000000      6.000000   \n",
       "75%        5.0000      6.000000      6.000000      7.000000      7.000000   \n",
       "max        9.0000     10.000000     10.000000     10.000000     10.000000   \n",
       "\n",
       "                  5             6             7             8             9  \n",
       "count  10000.000000  10000.000000  10000.000000  10000.000000  10000.000000  \n",
       "mean       6.985100      7.602100      8.188000      8.803800      9.401300  \n",
       "std        1.094257      0.984415      0.857747      0.693652      0.490186  \n",
       "min        5.000000      6.000000      7.000000      8.000000      9.000000  \n",
       "25%        6.000000      7.000000      8.000000      8.000000      9.000000  \n",
       "50%        7.000000      8.000000      8.000000      9.000000      9.000000  \n",
       "75%        8.000000      8.000000      9.000000      9.000000     10.000000  \n",
       "max       10.000000     10.000000     10.000000     10.000000     10.000000  "
      ]
     },
     "execution_count": 8,
     "metadata": {},
     "output_type": "execute_result"
    }
   ],
   "source": [
    "sim.describe()"
   ]
  },
  {
   "cell_type": "code",
   "execution_count": 10,
   "metadata": {},
   "outputs": [
    {
     "data": {
      "image/png": "[encoded data removed]",
      "text/plain": [
       "<Figure size 432x288 with 1 Axes>"
      ]
     },
     "metadata": {
      "needs_background": "light"
     },
     "output_type": "display_data"
    }
   ],
   "source": [
    "for i in sim.columns:\n",
    "    sim[i].plot.kde()"
   ]
  },
  {
   "cell_type": "code",
   "execution_count": 41,
   "metadata": {},
   "outputs": [],
   "source": [
    "kernel_bkg = stats.gaussian_kde(sim[0])"
   ]
  },
  {
   "cell_type": "code",
   "execution_count": 42,
   "metadata": {},
   "outputs": [],
   "source": [
    "kernel_sig = []\n",
    "for col in sim.drop([0]).columns:\n",
    "    kernel_sig.append(stats.gaussian_kde(sim[col]))"
   ]
  },
  {
   "cell_type": "code",
   "execution_count": 43,
   "metadata": {},
   "outputs": [],
   "source": [
    "def likelihood_ratio(x):\n",
    "    bkg = kernel_bkg(x)\n",
    "    \n",
    "    sig = []\n",
    "    for k in kernel_sig:\n",
    "        sig.append(k(x))\n",
    "    sig = np.array(sig)\n",
    "    \n",
    "    ts = -2*np.log(bkg/sig)\n",
    "    \n",
    "    return ts"
   ]
  },
  {
   "cell_type": "code",
   "execution_count": 50,
   "metadata": {},
   "outputs": [
    {
     "name": "stderr",
     "output_type": "stream",
     "text": [
      "/usr/local/lib/python3.7/site-packages/ipykernel_launcher.py:9: RuntimeWarning: divide by zero encountered in true_divide\n",
      "  if __name__ == '__main__':\n"
     ]
    }
   ],
   "source": [
    "ts = likelihood_ratio(6)"
   ]
  },
  {
   "cell_type": "code",
   "execution_count": 51,
   "metadata": {},
   "outputs": [
    {
     "data": {
      "text/plain": [
       "[<matplotlib.lines.Line2D at 0x1220a7c50>]"
      ]
     },
     "execution_count": 51,
     "metadata": {},
     "output_type": "execute_result"
    },
    {
     "data": {
      "image/png": "[encoded data removed]",
      "text/plain": [
       "<Figure size 432x288 with 1 Axes>"
      ]
     },
     "metadata": {
      "needs_background": "light"
     },
     "output_type": "display_data"
    }
   ],
   "source": [
    "fig, ax = plt.subplots()\n",
    "ax.plot(ts)"
   ]
  },
  {
   "cell_type": "code",
   "execution_count": null,
   "metadata": {},
   "outputs": [],
   "source": [
    "fig, ax = plt.subplots()\n",
    "x = np.linspace(0,5,1000)\n",
    "ax.plot(x, kernel(x))"
   ]
  },
  {
   "cell_type": "code",
   "execution_count": null,
   "metadata": {},
   "outputs": [],
   "source": [
    "for i, col in enumerate(sim.columns):\n",
    "    sim[f\"cum_{col}\"] = sim[col].cumsum() / sim[col].sum()"
   ]
  },
  {
   "cell_type": "code",
   "execution_count": null,
   "metadata": {},
   "outputs": [],
   "source": [
    "sim"
   ]
  },
  {
   "cell_type": "code",
   "execution_count": null,
   "metadata": {},
   "outputs": [],
   "source": []
  }
 ],
 "metadata": {
  "kernelspec": {
   "display_name": "Python 3",
   "language": "python",
   "name": "python3"
  },
  "language_info": {
   "codemirror_mode": {
    "name": "ipython",
    "version": 3
   },
   "file_extension": ".py",
   "mimetype": "text/x-python",
   "name": "python",
   "nbconvert_exporter": "python",
   "pygments_lexer": "ipython3",
   "version": "3.7.7"
  }
 },
 "nbformat": 4,
 "nbformat_minor": 4
}
